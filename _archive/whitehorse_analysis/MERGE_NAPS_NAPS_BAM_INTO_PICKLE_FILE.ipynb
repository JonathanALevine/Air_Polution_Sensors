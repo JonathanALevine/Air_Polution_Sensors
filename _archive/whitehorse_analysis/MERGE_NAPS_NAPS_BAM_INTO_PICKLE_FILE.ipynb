{
 "cells": [
  {
   "cell_type": "code",
   "execution_count": 117,
   "metadata": {},
   "outputs": [
    {
     "data": {
      "text/html": [
       "<style>.container { width:90% !important; }</style>"
      ],
      "text/plain": [
       "<IPython.core.display.HTML object>"
      ]
     },
     "metadata": {},
     "output_type": "display_data"
    }
   ],
   "source": [
    "import openpyxl\n",
    "import numpy as np\n",
    "from sklearn.model_selection import train_test_split\n",
    "from sklearn.linear_model import LinearRegression\n",
    "from sklearn.linear_model import ElasticNet\n",
    "from sklearn.tree import DecisionTreeRegressor\n",
    "from sklearn import metrics\n",
    "from matplotlib import pyplot as plt\n",
    "import datetime\n",
    "import math\n",
    "import pandas as pd\n",
    "\n",
    "\n",
    "from IPython.core.display import display, HTML\n",
    "display(HTML(\"<style>.container { width:90% !important; }</style>\"))"
   ]
  },
  {
   "cell_type": "code",
   "execution_count": 132,
   "metadata": {},
   "outputs": [],
   "source": [
    "# Convert csv file to pandas pkl\n",
    "dataframe = pd.read_csv('test_data_set.csv').to_pickle('data_set.pkl')"
   ]
  },
  {
   "cell_type": "code",
   "execution_count": 158,
   "metadata": {},
   "outputs": [],
   "source": [
    "# Load in the dataset\n",
    "dataframe = pd.read_pickle('data_set.pkl')\n",
    "# NAPS dataset\n",
    "# Get the PM25, temp, rh_pct, season split into 4 variables, pressure, airport windspeed, airport wind direction\n",
    "# Convert dataframe to numpy array\n",
    "NAPS = dataframe.loc[dataframe['location'] == \"NAPS\"]\n",
    "NAPS = NAPS[['dt_hour','PM25_ugm3_Mean', 'ambient_Temp_C_Mean','rh_pct_Mean', 'season', \n",
    "             'BarometricPressure_mbar_Mean', 'airport_wind_spd_kmh', 'airport_wind_dir']]\n",
    "NAPS = pd.get_dummies(NAPS, columns=['season'])"
   ]
  },
  {
   "cell_type": "code",
   "execution_count": 159,
   "metadata": {},
   "outputs": [],
   "source": [
    "NAPS.to_csv('new_dataset_whitehorse.csv')"
   ]
  },
  {
   "cell_type": "code",
   "execution_count": 157,
   "metadata": {},
   "outputs": [],
   "source": [
    "# Load in the dataset\n",
    "dataframe = pd.read_pickle('data_set.pkl')\n",
    "# NAPS dataset\n",
    "# Get the PM25, temp, rh_pct, season split into 4 variables, pressure, airport windspeed, airport wind direction\n",
    "# Convert dataframe to numpy array\n",
    "NAPS_BAM = dataframe.loc[dataframe['location'] == \"NAPS BAM\"]\n",
    "NAPS_BAM = NAPS_BAM[['dt_hour','PM25_ugm3_Mean']]\n",
    "NAPS_BAM.to_csv('reference_data.csv')"
   ]
  },
  {
   "cell_type": "code",
   "execution_count": 160,
   "metadata": {},
   "outputs": [
    {
     "name": "stdout",
     "output_type": "stream",
     "text": [
      "                dt_hour  PM25_ugm3_Mean\n",
      "83114   2015-11-07 0:00             2.0\n",
      "83115   2015-11-07 1:00             1.0\n",
      "83116   2015-11-07 2:00             0.0\n",
      "83117   2015-11-07 3:00             0.0\n",
      "83118   2015-11-07 4:00             0.0\n",
      "...                 ...             ...\n",
      "96094  2017-04-30 20:00             NaN\n",
      "96095  2017-04-30 21:00             NaN\n",
      "96096  2017-04-30 22:00             NaN\n",
      "96097  2017-04-30 23:00             NaN\n",
      "96098   2017-05-01 0:00             0.0\n",
      "\n",
      "[12985 rows x 2 columns]\n"
     ]
    }
   ],
   "source": [
    "print(NAPS_BAM)"
   ]
  },
  {
   "cell_type": "code",
   "execution_count": 161,
   "metadata": {},
   "outputs": [
    {
     "name": "stdout",
     "output_type": "stream",
     "text": [
      "               dt_hour  PM25_ugm3_Mean  ambient_Temp_C_Mean  rh_pct_Mean  \\\n",
      "70718  2015-11-07 0:00             NaN                  NaN          NaN   \n",
      "70719  2015-11-07 1:00        0.679598            -1.928276    34.400690   \n",
      "70720  2015-11-07 2:00        0.501925            -2.192000    34.325000   \n",
      "70721  2015-11-07 3:00        0.559391            -1.828172    34.601724   \n",
      "70722  2015-11-07 4:00        0.564632            -1.751328    34.668276   \n",
      "...                ...             ...                  ...          ...   \n",
      "83109  2017-04-26 4:00        2.793138            -4.397569    34.655172   \n",
      "83110  2017-04-26 5:00        3.117776            -4.896259    34.524483   \n",
      "83111  2017-04-26 6:00        3.179569            -5.146069    34.432414   \n",
      "83112  2017-04-26 7:00        2.679603            -3.285483    34.168448   \n",
      "83113  2017-04-26 8:00             NaN                  NaN          NaN   \n",
      "\n",
      "       BarometricPressure_mbar_Mean  airport_wind_spd_kmh  airport_wind_dir  \\\n",
      "70718                           NaN                  25.0               160   \n",
      "70719                    922.000000                  21.0               170   \n",
      "70720                    922.000000                  19.0               170   \n",
      "70721                    922.000000                  26.0               170   \n",
      "70722                    922.344828                  26.0               170   \n",
      "...                             ...                   ...               ...   \n",
      "83109                    924.120690                   7.0               180   \n",
      "83110                    924.000000                   7.0               190   \n",
      "83111                    924.000000                   8.0               160   \n",
      "83112                    924.000000                   7.0               180   \n",
      "83113                           NaN                   5.0               160   \n",
      "\n",
      "       season_Autumn  season_Spring  season_Summer  season_Winter  \n",
      "70718              0              0              0              1  \n",
      "70719              0              0              0              1  \n",
      "70720              0              0              0              1  \n",
      "70721              0              0              0              1  \n",
      "70722              0              0              0              1  \n",
      "...              ...            ...            ...            ...  \n",
      "83109              0              1              0              0  \n",
      "83110              0              1              0              0  \n",
      "83111              0              1              0              0  \n",
      "83112              0              1              0              0  \n",
      "83113              0              1              0              0  \n",
      "\n",
      "[12396 rows x 11 columns]\n"
     ]
    }
   ],
   "source": [
    "print(NAPS)"
   ]
  },
  {
   "cell_type": "code",
   "execution_count": 163,
   "metadata": {},
   "outputs": [],
   "source": [
    "merged_dataframe = pd.merge(NAPS, NAPS_BAM, on='dt_hour', how='inner')"
   ]
  },
  {
   "cell_type": "code",
   "execution_count": 164,
   "metadata": {},
   "outputs": [
    {
     "name": "stdout",
     "output_type": "stream",
     "text": [
      "               dt_hour  PM25_ugm3_Mean_x  ambient_Temp_C_Mean  rh_pct_Mean  \\\n",
      "0      2015-11-07 0:00               NaN                  NaN          NaN   \n",
      "1      2015-11-07 1:00          0.679598            -1.928276    34.400690   \n",
      "2      2015-11-07 2:00          0.501925            -2.192000    34.325000   \n",
      "3      2015-11-07 3:00          0.559391            -1.828172    34.601724   \n",
      "4      2015-11-07 4:00          0.564632            -1.751328    34.668276   \n",
      "...                ...               ...                  ...          ...   \n",
      "12391  2017-04-26 4:00          2.793138            -4.397569    34.655172   \n",
      "12392  2017-04-26 5:00          3.117776            -4.896259    34.524483   \n",
      "12393  2017-04-26 6:00          3.179569            -5.146069    34.432414   \n",
      "12394  2017-04-26 7:00          2.679603            -3.285483    34.168448   \n",
      "12395  2017-04-26 8:00               NaN                  NaN          NaN   \n",
      "\n",
      "       BarometricPressure_mbar_Mean  airport_wind_spd_kmh  airport_wind_dir  \\\n",
      "0                               NaN                  25.0               160   \n",
      "1                        922.000000                  21.0               170   \n",
      "2                        922.000000                  19.0               170   \n",
      "3                        922.000000                  26.0               170   \n",
      "4                        922.344828                  26.0               170   \n",
      "...                             ...                   ...               ...   \n",
      "12391                    924.120690                   7.0               180   \n",
      "12392                    924.000000                   7.0               190   \n",
      "12393                    924.000000                   8.0               160   \n",
      "12394                    924.000000                   7.0               180   \n",
      "12395                           NaN                   5.0               160   \n",
      "\n",
      "       season_Autumn  season_Spring  season_Summer  season_Winter  \\\n",
      "0                  0              0              0              1   \n",
      "1                  0              0              0              1   \n",
      "2                  0              0              0              1   \n",
      "3                  0              0              0              1   \n",
      "4                  0              0              0              1   \n",
      "...              ...            ...            ...            ...   \n",
      "12391              0              1              0              0   \n",
      "12392              0              1              0              0   \n",
      "12393              0              1              0              0   \n",
      "12394              0              1              0              0   \n",
      "12395              0              1              0              0   \n",
      "\n",
      "       PM25_ugm3_Mean_y  \n",
      "0                   2.0  \n",
      "1                   1.0  \n",
      "2                   0.0  \n",
      "3                   0.0  \n",
      "4                   0.0  \n",
      "...                 ...  \n",
      "12391               0.0  \n",
      "12392               2.0  \n",
      "12393               4.0  \n",
      "12394               2.0  \n",
      "12395               0.0  \n",
      "\n",
      "[12396 rows x 12 columns]\n"
     ]
    }
   ],
   "source": [
    "print(merged_dataframe)"
   ]
  },
  {
   "cell_type": "code",
   "execution_count": 165,
   "metadata": {},
   "outputs": [],
   "source": [
    "merged_dataframe.to_csv('merged_dataset.csv')"
   ]
  }
 ],
 "metadata": {
  "kernelspec": {
   "display_name": "Python 3",
   "language": "python",
   "name": "python3"
  },
  "language_info": {
   "codemirror_mode": {
    "name": "ipython",
    "version": 3
   },
   "file_extension": ".py",
   "mimetype": "text/x-python",
   "name": "python",
   "nbconvert_exporter": "python",
   "pygments_lexer": "ipython3",
   "version": "3.7.6"
  }
 },
 "nbformat": 4,
 "nbformat_minor": 4
}
