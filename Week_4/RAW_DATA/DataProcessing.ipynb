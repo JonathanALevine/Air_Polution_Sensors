{
 "cells": [
  {
   "cell_type": "code",
   "execution_count": 1,
   "metadata": {},
   "outputs": [
    {
     "data": {
      "text/html": [
       "<style>.container { width:98% !important; }</style>"
      ],
      "text/plain": [
       "<IPython.core.display.HTML object>"
      ]
     },
     "metadata": {},
     "output_type": "display_data"
    }
   ],
   "source": [
    "import openpyxl\n",
    "import numpy as np\n",
    "from sklearn.model_selection import train_test_split\n",
    "from sklearn.linear_model import LinearRegression\n",
    "from sklearn.linear_model import ElasticNet\n",
    "from sklearn.tree import DecisionTreeRegressor\n",
    "from sklearn import metrics\n",
    "from sklearn.ensemble import RandomForestRegressor\n",
    "\n",
    "from sklearn.feature_selection import RFE\n",
    "from sklearn.feature_selection import RFECV\n",
    "from sklearn.model_selection import StratifiedKFold\n",
    "\n",
    "from matplotlib import pyplot as plt\n",
    "import datetime\n",
    "import math\n",
    "import pandas as pd\n",
    "from scipy import stats\n",
    "import seaborn as sn\n",
    "\n",
    "from IPython.core.display import display, HTML\n",
    "display(HTML(\"<style>.container { width:98% !important; }</style>\"))\n",
    "\n",
    "# Drops specific values in a dataframe\n",
    "# if flag = 1, drops values less than 'val'\n",
    "# if flag = 0, drops values greater than 'val'\n",
    "def drop_values(dataframe, column, val, flag):\n",
    "    if flag:\n",
    "        return dataframe.drop(dataframe[column < val].index)\n",
    "    else:\n",
    "        return dataframe.drop(dataframe[column > val].index)\n",
    "    \n",
    "egg_1_dataframe_1 = pd.read_csv('Egg#1/2020-05-16 Download_egg0080446e6e980130.csv')\n",
    "egg_1_dataframe_2 = pd.read_csv('Egg#1/2020-05-25 Download_egg0080446e6e980130.csv')\n",
    "egg_1_dataframe_3 = pd.read_csv('Egg#1/2020-06-02 Download_egg0080446e6e980130.csv')\n",
    "egg_1_dataframe_4 = pd.read_csv('Egg#1/2020-06-11 Download_egg0080446e6e980130.csv')\n",
    "# Remove the Latitude, Longitude, and Altitude \n",
    "egg_1_dataframe_1 = egg_1_dataframe_1.drop(columns=['Latitude[deg]', 'Longitude[deg]', 'Altitude[m]'])\n",
    "egg_1_dataframe_2 = egg_1_dataframe_2.drop(columns=['Latitude[deg]', 'Longitude[deg]', 'Altitude[m]'])\n",
    "egg_1_dataframe_3 = egg_1_dataframe_3.drop(columns=['Latitude[deg]', 'Longitude[deg]', 'Altitude[m]'])\n",
    "egg_1_dataframe_4 = egg_1_dataframe_4.drop(columns=['Latitude[deg]', 'Longitude[deg]', 'Altitude[m]'])\n",
    "# Convert the Timestamp column to an index and resample to 60 min averages\n",
    "egg_1_dataframe_1['Timestamp'] = pd.to_datetime(egg_1_dataframe_1['Timestamp'])\n",
    "egg_1_dataframe_2['Timestamp'] = pd.to_datetime(egg_1_dataframe_2['Timestamp'])\n",
    "egg_1_dataframe_3['Timestamp'] = pd.to_datetime(egg_1_dataframe_3['Timestamp'])\n",
    "egg_1_dataframe_4['Timestamp'] = pd.to_datetime(egg_1_dataframe_4['Timestamp'])\n",
    "# Merge all the files into 1 dataframe\n",
    "egg_1_dataframe = pd.concat((egg_1_dataframe_1, egg_1_dataframe_2, egg_1_dataframe_3, egg_1_dataframe_4))\n",
    "egg_1_dataframe['Timestamp'] = pd.to_datetime(egg_1_dataframe['Timestamp'])\n",
    "egg_1_dataframe = egg_1_dataframe.resample('60min', on='Timestamp').mean()\n",
    "egg_1_dataframe.to_pickle('EGG1_HOURLY.pkl')\n",
    "egg_1_dataframe.to_csv('EGG1_HOURLY.csv')\n",
    "\n",
    "egg_2_dataframe_1 = pd.read_csv('Egg#2/2020-05-16 Download_egg0080446fa82b0130.csv')\n",
    "egg_2_dataframe_2 = pd.read_csv('Egg#2/2020-05-25 Download_egg0080446fa82b0130.csv')\n",
    "egg_2_dataframe_3 = pd.read_csv('Egg#2/2020-06-02 Download_egg0080446fa82b0130.csv')\n",
    "egg_2_dataframe_4 = pd.read_csv('Egg#2/2020-06-11 Download_egg0080446fa82b0130.csv')\n",
    "# Remove the Latitude, Longitude, and Altitude \n",
    "egg_2_dataframe_1 = egg_2_dataframe_1.drop(columns=['Latitude[deg]', 'Longitude[deg]', 'Altitude[m]'])\n",
    "egg_2_dataframe_2 = egg_2_dataframe_2.drop(columns=['Latitude[deg]', 'Longitude[deg]', 'Altitude[m]'])\n",
    "egg_2_dataframe_3 = egg_2_dataframe_3.drop(columns=['Latitude[deg]', 'Longitude[deg]', 'Altitude[m]'])\n",
    "egg_2_dataframe_4 = egg_2_dataframe_4.drop(columns=['Latitude[deg]', 'Longitude[deg]', 'Altitude[m]'])\n",
    "# Convert the Timestamp column to an index and resample to 60 min averages\n",
    "egg_2_dataframe_1['Timestamp'] = pd.to_datetime(egg_2_dataframe_1['Timestamp'])\n",
    "egg_2_dataframe_2['Timestamp'] = pd.to_datetime(egg_2_dataframe_2['Timestamp'])\n",
    "egg_2_dataframe_3['Timestamp'] = pd.to_datetime(egg_2_dataframe_3['Timestamp'])\n",
    "egg_2_dataframe_4['Timestamp'] = pd.to_datetime(egg_2_dataframe_4['Timestamp'])\n",
    "# Merge all the files into 1 dataframe\n",
    "egg_2_dataframe = pd.concat((egg_2_dataframe_1, egg_2_dataframe_2, egg_2_dataframe_3, egg_2_dataframe_4))\n",
    "egg_2_dataframe['Timestamp'] = pd.to_datetime(egg_2_dataframe['Timestamp'])\n",
    "egg_2_dataframe = egg_2_dataframe.resample('60min', on='Timestamp').mean()\n",
    "egg_2_dataframe.to_pickle('EGG2_HOURLY.pkl')\n",
    "egg_2_dataframe.to_csv('EGG2_HOURLY.csv')\n",
    "\n",
    "egg_4_dataframe_1 = pd.read_csv('Egg#4/2020-05-16 Download_egg00804426a6980132.csv')\n",
    "egg_4_dataframe_2 = pd.read_csv('Egg#4/2020-05-25 Download_egg00804426a6980132.csv')\n",
    "egg_4_dataframe_3 = pd.read_csv('Egg#4/2020-06-02 Download_egg00804426a6980132.csv')\n",
    "egg_4_dataframe_4 = pd.read_csv('Egg#4/2020-06-11 Download_egg00804426a6980132.csv')\n",
    "# Remove the Latitude, Longitude, and Altitude \n",
    "egg_4_dataframe_1 = egg_4_dataframe_1.drop(columns=['Latitude[deg]', 'Longitude[deg]', 'Altitude[m]'])\n",
    "egg_4_dataframe_2 = egg_4_dataframe_2.drop(columns=['Latitude[deg]', 'Longitude[deg]', 'Altitude[m]'])\n",
    "egg_4_dataframe_3 = egg_4_dataframe_3.drop(columns=['Latitude[deg]', 'Longitude[deg]', 'Altitude[m]'])\n",
    "egg_4_dataframe_4 = egg_4_dataframe_4.drop(columns=['Latitude[deg]', 'Longitude[deg]', 'Altitude[m]'])\n",
    "# Convert the Timestamp column to an index and resample to 60 min averages\n",
    "egg_4_dataframe_1['Timestamp'] = pd.to_datetime(egg_4_dataframe_1['Timestamp'])\n",
    "egg_4_dataframe_2['Timestamp'] = pd.to_datetime(egg_4_dataframe_2['Timestamp'])\n",
    "egg_4_dataframe_3['Timestamp'] = pd.to_datetime(egg_4_dataframe_3['Timestamp'])\n",
    "egg_4_dataframe_4['Timestamp'] = pd.to_datetime(egg_4_dataframe_4['Timestamp'])\n",
    "# Merge all the files into 1 dataframe\n",
    "egg_4_dataframe = pd.concat((egg_4_dataframe_1, egg_4_dataframe_2, egg_4_dataframe_3, egg_4_dataframe_4))\n",
    "egg_4_dataframe['Timestamp'] = pd.to_datetime(egg_4_dataframe['Timestamp'])\n",
    "egg_4_dataframe = egg_4_dataframe.resample('60min', on='Timestamp').mean()\n",
    "egg_4_dataframe.to_pickle('EGG4_HOURLY.pkl')\n",
    "egg_4_dataframe.to_csv('EGG4_HOURLY.csv')"
   ]
  },
  {
   "cell_type": "code",
   "execution_count": null,
   "metadata": {},
   "outputs": [],
   "source": []
  }
 ],
 "metadata": {
  "kernelspec": {
   "display_name": "Python 3",
   "language": "python",
   "name": "python3"
  },
  "language_info": {
   "codemirror_mode": {
    "name": "ipython",
    "version": 3
   },
   "file_extension": ".py",
   "mimetype": "text/x-python",
   "name": "python",
   "nbconvert_exporter": "python",
   "pygments_lexer": "ipython3",
   "version": "3.7.6"
  }
 },
 "nbformat": 4,
 "nbformat_minor": 4
}
