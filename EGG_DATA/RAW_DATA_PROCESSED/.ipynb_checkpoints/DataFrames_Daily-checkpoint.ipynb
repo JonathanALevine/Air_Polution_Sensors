{
 "cells": [
  {
   "cell_type": "code",
   "execution_count": 1,
   "metadata": {},
   "outputs": [
    {
     "data": {
      "text/html": [
       "<style>.container { width:98% !important; }</style>"
      ],
      "text/plain": [
       "<IPython.core.display.HTML object>"
      ]
     },
     "metadata": {},
     "output_type": "display_data"
    }
   ],
   "source": [
    "import openpyxl\n",
    "import numpy as np\n",
    "from sklearn.model_selection import train_test_split\n",
    "from sklearn.linear_model import LinearRegression\n",
    "from sklearn.linear_model import ElasticNet\n",
    "from sklearn.tree import DecisionTreeRegressor\n",
    "from sklearn import metrics\n",
    "from sklearn.ensemble import RandomForestRegressor\n",
    "\n",
    "from sklearn.feature_selection import RFE\n",
    "from sklearn.feature_selection import RFECV\n",
    "from sklearn.model_selection import StratifiedKFold\n",
    "\n",
    "from matplotlib import pyplot as plt\n",
    "import datetime\n",
    "import math\n",
    "import pandas as pd\n",
    "from scipy import stats\n",
    "import seaborn as sn\n",
    "\n",
    "from IPython.core.display import display, HTML\n",
    "display(HTML(\"<style>.container { width:98% !important; }</style>\"))\n",
    "\n",
    "# Drops specific values in a dataframe\n",
    "# if flag = 1, drops values less than 'val'\n",
    "# if flag = 0, drops values greater than 'val'\n",
    "def drop_values(dataframe, column, val, flag):\n",
    "    if flag:\n",
    "        return dataframe.drop(dataframe[column < val].index)\n",
    "    else:\n",
    "        return dataframe.drop(dataframe[column > val].index)\n",
    "    \n",
    "airpointer = pd.read_csv('20200617_213949_2019_00697_HC_697_10973.csv')\n",
    "airpointer = airpointer.rename(columns={'Time':'Timestamp'})\n",
    "egg_1 = pd.read_pickle('EGG1_DAILY.pkl')\n",
    "egg_2 = pd.read_pickle('EGG2_DAILY.pkl')\n",
    "egg_4 = pd.read_pickle('EGG4_DAILY.pkl')\n",
    "\n",
    "airpointer['Timestamp'] = pd.to_datetime(airpointer['Timestamp'])\n",
    "airpointer = airpointer.resample('1440min', on='Timestamp').mean()\n",
    "\n",
    "egg_1_master = pd.concat((egg_1, airpointer), axis=1)\n",
    "egg_2_master = pd.concat((egg_2, airpointer), axis=1)\n",
    "egg_4_master = pd.concat((egg_4, airpointer), axis=1)\n",
    "\n",
    "egg_1_master = drop_values(egg_1_master, egg_1_master['NO2'], -1, 1)\n",
    "egg_2_master = drop_values(egg_2_master, egg_2_master['NO2'], -1, 1)\n",
    "egg_4_master = drop_values(egg_4_master, egg_4_master['NO2'], -1, 1)\n",
    "\n",
    "egg_1_master.to_csv('EGG1_DAILY.csv')\n",
    "egg_2_master.to_csv('EGG2_DAILY.csv')\n",
    "egg_4_master.to_csv('EGG4_DAILY.csv')\n",
    "\n",
    "egg_1_master.to_pickle('EGG1_DAILY.pkl')\n",
    "egg_2_master.to_pickle('EGG2_DAILY.pkl')\n",
    "egg_4_master.to_pickle('EGG4_DAILY.pkl')"
   ]
  },
  {
   "cell_type": "code",
   "execution_count": null,
   "metadata": {},
   "outputs": [],
   "source": []
  },
  {
   "cell_type": "code",
   "execution_count": null,
   "metadata": {},
   "outputs": [],
   "source": []
  }
 ],
 "metadata": {
  "kernelspec": {
   "display_name": "Python 3",
   "language": "python",
   "name": "python3"
  },
  "language_info": {
   "codemirror_mode": {
    "name": "ipython",
    "version": 3
   },
   "file_extension": ".py",
   "mimetype": "text/x-python",
   "name": "python",
   "nbconvert_exporter": "python",
   "pygments_lexer": "ipython3",
   "version": "3.7.6"
  }
 },
 "nbformat": 4,
 "nbformat_minor": 4
}
